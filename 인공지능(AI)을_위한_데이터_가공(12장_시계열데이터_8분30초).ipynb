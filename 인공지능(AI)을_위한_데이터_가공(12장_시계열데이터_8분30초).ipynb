{
  "nbformat": 4,
  "nbformat_minor": 0,
  "metadata": {
    "colab": {
      "provenance": [],
      "authorship_tag": "ABX9TyPSWhSH4LGkvZxOdk16G774",
      "include_colab_link": true
    },
    "kernelspec": {
      "name": "python3",
      "display_name": "Python 3"
    },
    "language_info": {
      "name": "python"
    }
  },
  "cells": [
    {
      "cell_type": "markdown",
      "metadata": {
        "id": "view-in-github",
        "colab_type": "text"
      },
      "source": [
        "<a href=\"https://colab.research.google.com/github/beakdu/Baekjoon/blob/main/%EC%9D%B8%EA%B3%B5%EC%A7%80%EB%8A%A5(AI)%EC%9D%84_%EC%9C%84%ED%95%9C_%EB%8D%B0%EC%9D%B4%ED%84%B0_%EA%B0%80%EA%B3%B5(12%EC%9E%A5_%EC%8B%9C%EA%B3%84%EC%97%B4%EB%8D%B0%EC%9D%B4%ED%84%B0_8%EB%B6%8430%EC%B4%88).ipynb\" target=\"_parent\"><img src=\"https://colab.research.google.com/assets/colab-badge.svg\" alt=\"Open In Colab\"/></a>"
      ]
    },
    {
      "cell_type": "code",
      "execution_count": 1,
      "metadata": {
        "id": "6ZaQlsjQ13yS"
      },
      "outputs": [],
      "source": [
        "import pandas as pd\n"
      ]
    },
    {
      "cell_type": "code",
      "source": [
        "str_lst=[\"2023,3,1\",\"2023,3,2\",\"2023,3,3\",\"2023,3,4\"]\n",
        "print('type', type(str_lst))"
      ],
      "metadata": {
        "colab": {
          "base_uri": "https://localhost:8080/"
        },
        "id": "L6J3-Zc42FfG",
        "outputId": "caaef31d-da3a-4f94-9d5a-987b3a876669"
      },
      "execution_count": null,
      "outputs": [
        {
          "output_type": "stream",
          "name": "stdout",
          "text": [
            "type <class 'list'>\n"
          ]
        }
      ]
    },
    {
      "cell_type": "code",
      "source": [
        "idx = pd.to_datetime(str_lst,format=\"%Y,%m,%d\")\n",
        "print('DatetimeIndex자료형 인덱스 생성',idx)"
      ],
      "metadata": {
        "colab": {
          "base_uri": "https://localhost:8080/"
        },
        "id": "lh3hGA0N2bgh",
        "outputId": "a0068e99-1027-4e40-875d-9d9ab8a499b7"
      },
      "execution_count": null,
      "outputs": [
        {
          "output_type": "stream",
          "name": "stdout",
          "text": [
            "DatetimeIndex자료형 인덱스 생성 DatetimeIndex(['2023-03-01', '2023-03-02', '2023-03-03', '2023-03-04'], dtype='datetime64[ns]', freq=None)\n"
          ]
        }
      ]
    },
    {
      "cell_type": "code",
      "source": [
        "import numpy as np"
      ],
      "metadata": {
        "id": "FMdA1Fuy4Jdl"
      },
      "execution_count": null,
      "outputs": []
    },
    {
      "cell_type": "code",
      "source": [
        "series_idx=pd.Series(np.random.randn(4),index=idx)\n",
        "print(series_idx)"
      ],
      "metadata": {
        "colab": {
          "base_uri": "https://localhost:8080/"
        },
        "id": "ASuoHKIk4lai",
        "outputId": "9bb81368-86e8-4e11-f308-4f37a084be73"
      },
      "execution_count": null,
      "outputs": [
        {
          "output_type": "stream",
          "name": "stdout",
          "text": [
            "2023-03-01    2.421863\n",
            "2023-03-02   -0.647929\n",
            "2023-03-03   -1.467436\n",
            "2023-03-04   -1.614942\n",
            "dtype: float64\n"
          ]
        }
      ]
    },
    {
      "cell_type": "code",
      "source": [
        "pd.date_range(\"2022-12-1\",\"2022-12-31\")"
      ],
      "metadata": {
        "colab": {
          "base_uri": "https://localhost:8080/"
        },
        "id": "rmuyBmH4590C",
        "outputId": "ad69c329-1538-418e-bbe7-263fcd2f591c"
      },
      "execution_count": null,
      "outputs": [
        {
          "output_type": "execute_result",
          "data": {
            "text/plain": [
              "DatetimeIndex(['2022-12-01', '2022-12-02', '2022-12-03', '2022-12-04',\n",
              "               '2022-12-05', '2022-12-06', '2022-12-07', '2022-12-08',\n",
              "               '2022-12-09', '2022-12-10', '2022-12-11', '2022-12-12',\n",
              "               '2022-12-13', '2022-12-14', '2022-12-15', '2022-12-16',\n",
              "               '2022-12-17', '2022-12-18', '2022-12-19', '2022-12-20',\n",
              "               '2022-12-21', '2022-12-22', '2022-12-23', '2022-12-24',\n",
              "               '2022-12-25', '2022-12-26', '2022-12-27', '2022-12-28',\n",
              "               '2022-12-29', '2022-12-30', '2022-12-31'],\n",
              "              dtype='datetime64[ns]', freq='D')"
            ]
          },
          "metadata": {},
          "execution_count": 10
        }
      ]
    },
    {
      "cell_type": "code",
      "source": [
        "pd.date_range(\"2022-12-1\",periods=30)"
      ],
      "metadata": {
        "colab": {
          "base_uri": "https://localhost:8080/"
        },
        "id": "BoLqcTpd7RSM",
        "outputId": "9cc78698-180a-4dc0-ebc4-8358df1f8ad4"
      },
      "execution_count": null,
      "outputs": [
        {
          "output_type": "execute_result",
          "data": {
            "text/plain": [
              "DatetimeIndex(['2022-12-01', '2022-12-02', '2022-12-03', '2022-12-04',\n",
              "               '2022-12-05', '2022-12-06', '2022-12-07', '2022-12-08',\n",
              "               '2022-12-09', '2022-12-10', '2022-12-11', '2022-12-12',\n",
              "               '2022-12-13', '2022-12-14', '2022-12-15', '2022-12-16',\n",
              "               '2022-12-17', '2022-12-18', '2022-12-19', '2022-12-20',\n",
              "               '2022-12-21', '2022-12-22', '2022-12-23', '2022-12-24',\n",
              "               '2022-12-25', '2022-12-26', '2022-12-27', '2022-12-28',\n",
              "               '2022-12-29', '2022-12-30'],\n",
              "              dtype='datetime64[ns]', freq='D')"
            ]
          },
          "metadata": {},
          "execution_count": 11
        }
      ]
    },
    {
      "cell_type": "code",
      "source": [
        "pd.date_range(\"2022-12-1\",\"2022-12-31\",periods=3)"
      ],
      "metadata": {
        "colab": {
          "base_uri": "https://localhost:8080/"
        },
        "id": "85Mhjsb-7oaL",
        "outputId": "e290ed5f-7787-4326-9374-7debf856bd99"
      },
      "execution_count": null,
      "outputs": [
        {
          "output_type": "execute_result",
          "data": {
            "text/plain": [
              "DatetimeIndex(['2022-12-01', '2022-12-16', '2022-12-31'], dtype='datetime64[ns]', freq=None)"
            ]
          },
          "metadata": {},
          "execution_count": 12
        }
      ]
    },
    {
      "cell_type": "code",
      "source": [
        "pd.date_range(\"2023-12-01\",periods=30, freq='B')"
      ],
      "metadata": {
        "colab": {
          "base_uri": "https://localhost:8080/"
        },
        "id": "XkrSiVicAcur",
        "outputId": "43e07dd9-1148-43a8-bfc2-d3f690f3f6c7"
      },
      "execution_count": 2,
      "outputs": [
        {
          "output_type": "execute_result",
          "data": {
            "text/plain": [
              "DatetimeIndex(['2023-12-01', '2023-12-04', '2023-12-05', '2023-12-06',\n",
              "               '2023-12-07', '2023-12-08', '2023-12-11', '2023-12-12',\n",
              "               '2023-12-13', '2023-12-14', '2023-12-15', '2023-12-18',\n",
              "               '2023-12-19', '2023-12-20', '2023-12-21', '2023-12-22',\n",
              "               '2023-12-25', '2023-12-26', '2023-12-27', '2023-12-28',\n",
              "               '2023-12-29', '2024-01-01', '2024-01-02', '2024-01-03',\n",
              "               '2024-01-04', '2024-01-05', '2024-01-08', '2024-01-09',\n",
              "               '2024-01-10', '2024-01-11'],\n",
              "              dtype='datetime64[ns]', freq='B')"
            ]
          },
          "metadata": {},
          "execution_count": 2
        }
      ]
    },
    {
      "cell_type": "code",
      "source": [
        "pd.date_range(\"2024/12/01\",periods=40, freq='W')"
      ],
      "metadata": {
        "colab": {
          "base_uri": "https://localhost:8080/"
        },
        "id": "oKUdhUQ9BIs2",
        "outputId": "c2ec2485-39e6-4636-edea-9dbdfed7c182"
      },
      "execution_count": 3,
      "outputs": [
        {
          "output_type": "execute_result",
          "data": {
            "text/plain": [
              "DatetimeIndex(['2024-12-01', '2024-12-08', '2024-12-15', '2024-12-22',\n",
              "               '2024-12-29', '2025-01-05', '2025-01-12', '2025-01-19',\n",
              "               '2025-01-26', '2025-02-02', '2025-02-09', '2025-02-16',\n",
              "               '2025-02-23', '2025-03-02', '2025-03-09', '2025-03-16',\n",
              "               '2025-03-23', '2025-03-30', '2025-04-06', '2025-04-13',\n",
              "               '2025-04-20', '2025-04-27', '2025-05-04', '2025-05-11',\n",
              "               '2025-05-18', '2025-05-25', '2025-06-01', '2025-06-08',\n",
              "               '2025-06-15', '2025-06-22', '2025-06-29', '2025-07-06',\n",
              "               '2025-07-13', '2025-07-20', '2025-07-27', '2025-08-03',\n",
              "               '2025-08-10', '2025-08-17', '2025-08-24', '2025-08-31'],\n",
              "              dtype='datetime64[ns]', freq='W-SUN')"
            ]
          },
          "metadata": {},
          "execution_count": 3
        }
      ]
    },
    {
      "cell_type": "code",
      "source": [
        "pd.date_range(\"2024-12-01\",\"2024-12-31\",freq='W-TUE')"
      ],
      "metadata": {
        "colab": {
          "base_uri": "https://localhost:8080/"
        },
        "id": "I1Ykrym9CG1X",
        "outputId": "6b5cf64c-2d51-4a93-e33f-5545e0508de1"
      },
      "execution_count": 4,
      "outputs": [
        {
          "output_type": "execute_result",
          "data": {
            "text/plain": [
              "DatetimeIndex(['2024-12-03', '2024-12-10', '2024-12-17', '2024-12-24',\n",
              "               '2024-12-31'],\n",
              "              dtype='datetime64[ns]', freq='W-TUE')"
            ]
          },
          "metadata": {},
          "execution_count": 4
        }
      ]
    },
    {
      "cell_type": "code",
      "source": [
        "pd.date_range(\"2024-12-01\",\"2025-01-31\",freq='M')"
      ],
      "metadata": {
        "colab": {
          "base_uri": "https://localhost:8080/"
        },
        "id": "lcjRQHD3C6SN",
        "outputId": "e230fb0b-aafb-4203-8764-662001ba9aa4"
      },
      "execution_count": 6,
      "outputs": [
        {
          "output_type": "stream",
          "name": "stderr",
          "text": [
            "<ipython-input-6-fa59991988b9>:1: FutureWarning: 'M' is deprecated and will be removed in a future version, please use 'ME' instead.\n",
            "  pd.date_range(\"2024-12-01\",\"2025-01-31\",freq='M')\n"
          ]
        },
        {
          "output_type": "execute_result",
          "data": {
            "text/plain": [
              "DatetimeIndex(['2024-12-31', '2025-01-31'], dtype='datetime64[ns]', freq='ME')"
            ]
          },
          "metadata": {},
          "execution_count": 6
        }
      ]
    },
    {
      "cell_type": "code",
      "source": [
        "pd.date_range(\"2024-11-01\",\"2024-12-10\",freq='MS')"
      ],
      "metadata": {
        "colab": {
          "base_uri": "https://localhost:8080/"
        },
        "id": "18JsnI2KD0tx",
        "outputId": "a03dd5a4-4b88-4fd4-e741-ed6a8e4b7568"
      },
      "execution_count": 7,
      "outputs": [
        {
          "output_type": "execute_result",
          "data": {
            "text/plain": [
              "DatetimeIndex(['2024-11-01', '2024-12-01'], dtype='datetime64[ns]', freq='MS')"
            ]
          },
          "metadata": {},
          "execution_count": 7
        }
      ]
    },
    {
      "cell_type": "code",
      "source": [
        "pd.date_range(\"2024-10-01\",\"2024-12-31\",freq='BMS')"
      ],
      "metadata": {
        "colab": {
          "base_uri": "https://localhost:8080/"
        },
        "id": "B-DFYTY1EIaq",
        "outputId": "6aa5a0a2-4a77-4e7b-86c0-54e0cb5d6a68"
      },
      "execution_count": 8,
      "outputs": [
        {
          "output_type": "execute_result",
          "data": {
            "text/plain": [
              "DatetimeIndex(['2024-10-01', '2024-11-01', '2024-12-02'], dtype='datetime64[ns]', freq='BMS')"
            ]
          },
          "metadata": {},
          "execution_count": 8
        }
      ]
    }
  ]
}