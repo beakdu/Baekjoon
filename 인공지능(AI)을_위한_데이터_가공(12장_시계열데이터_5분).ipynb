{
  "nbformat": 4,
  "nbformat_minor": 0,
  "metadata": {
    "colab": {
      "provenance": [],
      "authorship_tag": "ABX9TyOwGXzK/0J7fBeXIPYM4nLx",
      "include_colab_link": true
    },
    "kernelspec": {
      "name": "python3",
      "display_name": "Python 3"
    },
    "language_info": {
      "name": "python"
    }
  },
  "cells": [
    {
      "cell_type": "markdown",
      "metadata": {
        "id": "view-in-github",
        "colab_type": "text"
      },
      "source": [
        "<a href=\"https://colab.research.google.com/github/beakdu/Baekjoon/blob/main/%EC%9D%B8%EA%B3%B5%EC%A7%80%EB%8A%A5(AI)%EC%9D%84_%EC%9C%84%ED%95%9C_%EB%8D%B0%EC%9D%B4%ED%84%B0_%EA%B0%80%EA%B3%B5(12%EC%9E%A5_%EC%8B%9C%EA%B3%84%EC%97%B4%EB%8D%B0%EC%9D%B4%ED%84%B0_5%EB%B6%84).ipynb\" target=\"_parent\"><img src=\"https://colab.research.google.com/assets/colab-badge.svg\" alt=\"Open In Colab\"/></a>"
      ]
    },
    {
      "cell_type": "code",
      "execution_count": 1,
      "metadata": {
        "id": "6ZaQlsjQ13yS"
      },
      "outputs": [],
      "source": [
        "import pandas as pd\n"
      ]
    },
    {
      "cell_type": "code",
      "source": [
        "str_lst=[\"2023,3,1\",\"2023,3,2\",\"2023,3,3\",\"2023,3,4\"]\n",
        "print('type', type(str_lst))"
      ],
      "metadata": {
        "colab": {
          "base_uri": "https://localhost:8080/"
        },
        "id": "L6J3-Zc42FfG",
        "outputId": "caaef31d-da3a-4f94-9d5a-987b3a876669"
      },
      "execution_count": 2,
      "outputs": [
        {
          "output_type": "stream",
          "name": "stdout",
          "text": [
            "type <class 'list'>\n"
          ]
        }
      ]
    },
    {
      "cell_type": "code",
      "source": [
        "idx = pd.to_datetime(str_lst,format=\"%Y,%m,%d\")\n",
        "print('DatetimeIndex자료형 인덱스 생성',idx)"
      ],
      "metadata": {
        "colab": {
          "base_uri": "https://localhost:8080/"
        },
        "id": "lh3hGA0N2bgh",
        "outputId": "a0068e99-1027-4e40-875d-9d9ab8a499b7"
      },
      "execution_count": 4,
      "outputs": [
        {
          "output_type": "stream",
          "name": "stdout",
          "text": [
            "DatetimeIndex자료형 인덱스 생성 DatetimeIndex(['2023-03-01', '2023-03-02', '2023-03-03', '2023-03-04'], dtype='datetime64[ns]', freq=None)\n"
          ]
        }
      ]
    },
    {
      "cell_type": "code",
      "source": [
        "import numpy as np"
      ],
      "metadata": {
        "id": "FMdA1Fuy4Jdl"
      },
      "execution_count": 5,
      "outputs": []
    },
    {
      "cell_type": "code",
      "source": [
        "series_idx=pd.Series(np.random.randn(4),index=idx)\n",
        "print(series_idx)"
      ],
      "metadata": {
        "colab": {
          "base_uri": "https://localhost:8080/"
        },
        "id": "ASuoHKIk4lai",
        "outputId": "9bb81368-86e8-4e11-f308-4f37a084be73"
      },
      "execution_count": 9,
      "outputs": [
        {
          "output_type": "stream",
          "name": "stdout",
          "text": [
            "2023-03-01    2.421863\n",
            "2023-03-02   -0.647929\n",
            "2023-03-03   -1.467436\n",
            "2023-03-04   -1.614942\n",
            "dtype: float64\n"
          ]
        }
      ]
    },
    {
      "cell_type": "code",
      "source": [
        "pd.date_range(\"2022-12-1\",\"2022-12-31\")"
      ],
      "metadata": {
        "colab": {
          "base_uri": "https://localhost:8080/"
        },
        "id": "rmuyBmH4590C",
        "outputId": "ad69c329-1538-418e-bbe7-263fcd2f591c"
      },
      "execution_count": 10,
      "outputs": [
        {
          "output_type": "execute_result",
          "data": {
            "text/plain": [
              "DatetimeIndex(['2022-12-01', '2022-12-02', '2022-12-03', '2022-12-04',\n",
              "               '2022-12-05', '2022-12-06', '2022-12-07', '2022-12-08',\n",
              "               '2022-12-09', '2022-12-10', '2022-12-11', '2022-12-12',\n",
              "               '2022-12-13', '2022-12-14', '2022-12-15', '2022-12-16',\n",
              "               '2022-12-17', '2022-12-18', '2022-12-19', '2022-12-20',\n",
              "               '2022-12-21', '2022-12-22', '2022-12-23', '2022-12-24',\n",
              "               '2022-12-25', '2022-12-26', '2022-12-27', '2022-12-28',\n",
              "               '2022-12-29', '2022-12-30', '2022-12-31'],\n",
              "              dtype='datetime64[ns]', freq='D')"
            ]
          },
          "metadata": {},
          "execution_count": 10
        }
      ]
    },
    {
      "cell_type": "code",
      "source": [
        "pd.date_range(\"2022-12-1\",periods=30)"
      ],
      "metadata": {
        "colab": {
          "base_uri": "https://localhost:8080/"
        },
        "id": "BoLqcTpd7RSM",
        "outputId": "9cc78698-180a-4dc0-ebc4-8358df1f8ad4"
      },
      "execution_count": 11,
      "outputs": [
        {
          "output_type": "execute_result",
          "data": {
            "text/plain": [
              "DatetimeIndex(['2022-12-01', '2022-12-02', '2022-12-03', '2022-12-04',\n",
              "               '2022-12-05', '2022-12-06', '2022-12-07', '2022-12-08',\n",
              "               '2022-12-09', '2022-12-10', '2022-12-11', '2022-12-12',\n",
              "               '2022-12-13', '2022-12-14', '2022-12-15', '2022-12-16',\n",
              "               '2022-12-17', '2022-12-18', '2022-12-19', '2022-12-20',\n",
              "               '2022-12-21', '2022-12-22', '2022-12-23', '2022-12-24',\n",
              "               '2022-12-25', '2022-12-26', '2022-12-27', '2022-12-28',\n",
              "               '2022-12-29', '2022-12-30'],\n",
              "              dtype='datetime64[ns]', freq='D')"
            ]
          },
          "metadata": {},
          "execution_count": 11
        }
      ]
    },
    {
      "cell_type": "code",
      "source": [
        "pd.date_range(\"2022-12-1\",\"2022-12-31\",periods=3)"
      ],
      "metadata": {
        "colab": {
          "base_uri": "https://localhost:8080/"
        },
        "id": "85Mhjsb-7oaL",
        "outputId": "e290ed5f-7787-4326-9374-7debf856bd99"
      },
      "execution_count": 12,
      "outputs": [
        {
          "output_type": "execute_result",
          "data": {
            "text/plain": [
              "DatetimeIndex(['2022-12-01', '2022-12-16', '2022-12-31'], dtype='datetime64[ns]', freq=None)"
            ]
          },
          "metadata": {},
          "execution_count": 12
        }
      ]
    }
  ]
}