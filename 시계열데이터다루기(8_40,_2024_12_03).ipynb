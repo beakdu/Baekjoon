{
  "nbformat": 4,
  "nbformat_minor": 0,
  "metadata": {
    "colab": {
      "provenance": [],
      "authorship_tag": "ABX9TyOY793Ax7iriJ+lob7b7byX",
      "include_colab_link": true
    },
    "kernelspec": {
      "name": "python3",
      "display_name": "Python 3"
    },
    "language_info": {
      "name": "python"
    }
  },
  "cells": [
    {
      "cell_type": "markdown",
      "metadata": {
        "id": "view-in-github",
        "colab_type": "text"
      },
      "source": [
        "<a href=\"https://colab.research.google.com/github/beakdu/Baekjoon/blob/main/%EC%8B%9C%EA%B3%84%EC%97%B4%EB%8D%B0%EC%9D%B4%ED%84%B0%EB%8B%A4%EB%A3%A8%EA%B8%B0(8_40%2C_2024_12_03).ipynb\" target=\"_parent\"><img src=\"https://colab.research.google.com/assets/colab-badge.svg\" alt=\"Open In Colab\"/></a>"
      ]
    },
    {
      "cell_type": "code",
      "execution_count": 1,
      "metadata": {
        "id": "Fa_cl5vYzjMe"
      },
      "outputs": [],
      "source": [
        "import pandas as pd"
      ]
    },
    {
      "cell_type": "code",
      "source": [
        "str_lst=[\"2023,3,1\",\"2023,3,2\",\"2023,3,3\",\"2023,3,4\"]\n",
        "print('type -',type(str_lst))\n",
        "print()"
      ],
      "metadata": {
        "colab": {
          "base_uri": "https://localhost:8080/"
        },
        "id": "48YVz5bx0fvQ",
        "outputId": "33efeced-0cbe-4607-e2fc-936fc586e918"
      },
      "execution_count": 8,
      "outputs": [
        {
          "output_type": "stream",
          "name": "stdout",
          "text": [
            "type - <class 'list'>\n",
            "\n"
          ]
        }
      ]
    },
    {
      "cell_type": "code",
      "source": [
        "idx = pd.to_datetime(str_lst, format=\"%Y,%m,%d\")\n",
        "print('DatetimeIndex 자료형 인덱스 생성 -',idx)"
      ],
      "metadata": {
        "colab": {
          "base_uri": "https://localhost:8080/"
        },
        "id": "mx3BEQbf1EV_",
        "outputId": "d73d9cf2-af4b-486b-e423-fa57b17239af"
      },
      "execution_count": 9,
      "outputs": [
        {
          "output_type": "stream",
          "name": "stdout",
          "text": [
            "DatetimeIndex 자료형 인덱스 생성 - DatetimeIndex(['2023-03-01', '2023-03-02', '2023-03-03', '2023-03-04'], dtype='datetime64[ns]', freq=None)\n"
          ]
        }
      ]
    },
    {
      "cell_type": "code",
      "source": [
        "import numpy as np\n",
        "\n",
        "series_idx= pd.Series(np.random.randn(4), index = idx)\n",
        "print(series_idx)"
      ],
      "metadata": {
        "colab": {
          "base_uri": "https://localhost:8080/"
        },
        "id": "xJCYRDSFsxVs",
        "outputId": "1ec4c614-31df-4e81-dff8-2a0008eb2a59"
      },
      "execution_count": 11,
      "outputs": [
        {
          "output_type": "stream",
          "name": "stdout",
          "text": [
            "2023-03-01    0.319501\n",
            "2023-03-02   -0.739976\n",
            "2023-03-03   -0.213496\n",
            "2023-03-04   -0.388834\n",
            "dtype: float64\n"
          ]
        }
      ]
    },
    {
      "cell_type": "code",
      "source": [
        "pd.date_range(\"2022-12-1\",\"2022-12-31\")"
      ],
      "metadata": {
        "colab": {
          "base_uri": "https://localhost:8080/"
        },
        "id": "8igeSqCgwEGm",
        "outputId": "8819789f-840b-4ca5-ab00-a52a6bc33ee7"
      },
      "execution_count": 12,
      "outputs": [
        {
          "output_type": "execute_result",
          "data": {
            "text/plain": [
              "DatetimeIndex(['2022-12-01', '2022-12-02', '2022-12-03', '2022-12-04',\n",
              "               '2022-12-05', '2022-12-06', '2022-12-07', '2022-12-08',\n",
              "               '2022-12-09', '2022-12-10', '2022-12-11', '2022-12-12',\n",
              "               '2022-12-13', '2022-12-14', '2022-12-15', '2022-12-16',\n",
              "               '2022-12-17', '2022-12-18', '2022-12-19', '2022-12-20',\n",
              "               '2022-12-21', '2022-12-22', '2022-12-23', '2022-12-24',\n",
              "               '2022-12-25', '2022-12-26', '2022-12-27', '2022-12-28',\n",
              "               '2022-12-29', '2022-12-30', '2022-12-31'],\n",
              "              dtype='datetime64[ns]', freq='D')"
            ]
          },
          "metadata": {},
          "execution_count": 12
        }
      ]
    },
    {
      "cell_type": "code",
      "source": [
        "pd.date_range(\"2022-10-1\", periods=2)"
      ],
      "metadata": {
        "colab": {
          "base_uri": "https://localhost:8080/"
        },
        "id": "LH3mss00wkSn",
        "outputId": "a2ee1f27-4a3b-4d33-ce0f-690836c5d226"
      },
      "execution_count": 13,
      "outputs": [
        {
          "output_type": "execute_result",
          "data": {
            "text/plain": [
              "DatetimeIndex(['2022-10-01', '2022-10-02'], dtype='datetime64[ns]', freq='D')"
            ]
          },
          "metadata": {},
          "execution_count": 13
        }
      ]
    },
    {
      "cell_type": "code",
      "source": [
        "pd.date_range(\"2022-10-1\",\"2022-10-31\",periods=3)"
      ],
      "metadata": {
        "colab": {
          "base_uri": "https://localhost:8080/"
        },
        "id": "EbR0Di2XxEq5",
        "outputId": "3e7e8fee-ab5e-42ff-e7cd-52c6b3c38e8d"
      },
      "execution_count": 15,
      "outputs": [
        {
          "output_type": "execute_result",
          "data": {
            "text/plain": [
              "DatetimeIndex(['2022-10-01', '2022-10-16', '2022-10-31'], dtype='datetime64[ns]', freq=None)"
            ]
          },
          "metadata": {},
          "execution_count": 15
        }
      ]
    },
    {
      "cell_type": "code",
      "source": [
        "pd.date_range(\"2022/12/1\", periods=31, freq='B')"
      ],
      "metadata": {
        "colab": {
          "base_uri": "https://localhost:8080/"
        },
        "id": "z1pI13YszS-W",
        "outputId": "32f1f0c2-c582-4ccd-9b71-44b0ce1a015a"
      },
      "execution_count": 19,
      "outputs": [
        {
          "output_type": "execute_result",
          "data": {
            "text/plain": [
              "DatetimeIndex(['2022-12-01', '2022-12-02', '2022-12-05', '2022-12-06',\n",
              "               '2022-12-07', '2022-12-08', '2022-12-09', '2022-12-12',\n",
              "               '2022-12-13', '2022-12-14', '2022-12-15', '2022-12-16',\n",
              "               '2022-12-19', '2022-12-20', '2022-12-21', '2022-12-22',\n",
              "               '2022-12-23', '2022-12-26', '2022-12-27', '2022-12-28',\n",
              "               '2022-12-29', '2022-12-30', '2023-01-02', '2023-01-03',\n",
              "               '2023-01-04', '2023-01-05', '2023-01-06', '2023-01-09',\n",
              "               '2023-01-10', '2023-01-11', '2023-01-12'],\n",
              "              dtype='datetime64[ns]', freq='B')"
            ]
          },
          "metadata": {},
          "execution_count": 19
        }
      ]
    },
    {
      "cell_type": "code",
      "source": [
        "pd.date_range(\"2022/12/1\", \"2022/12/31\", freq='W')"
      ],
      "metadata": {
        "colab": {
          "base_uri": "https://localhost:8080/"
        },
        "id": "sr89mpLjz1HP",
        "outputId": "9ccd2dc6-106b-42a0-e9f1-443bef19e402"
      },
      "execution_count": 18,
      "outputs": [
        {
          "output_type": "execute_result",
          "data": {
            "text/plain": [
              "DatetimeIndex(['2022-12-04', '2022-12-11', '2022-12-18', '2022-12-25'], dtype='datetime64[ns]', freq='W-SUN')"
            ]
          },
          "metadata": {},
          "execution_count": 18
        }
      ]
    },
    {
      "cell_type": "code",
      "source": [
        "pd.date_range(\"2022-12-1\",\"2022-12-31\",freq='W-SUN')"
      ],
      "metadata": {
        "colab": {
          "base_uri": "https://localhost:8080/"
        },
        "id": "DLUtQTPP0oUH",
        "outputId": "a9d3d71b-b7b6-48d3-bd00-45a759c79ce1"
      },
      "execution_count": 20,
      "outputs": [
        {
          "output_type": "execute_result",
          "data": {
            "text/plain": [
              "DatetimeIndex(['2022-12-04', '2022-12-11', '2022-12-18', '2022-12-25'], dtype='datetime64[ns]', freq='W-SUN')"
            ]
          },
          "metadata": {},
          "execution_count": 20
        }
      ]
    },
    {
      "cell_type": "code",
      "source": [
        "pd.date_range(\"2022-12-1\", \"2022-12-31\",freq=\"W-MON\")"
      ],
      "metadata": {
        "colab": {
          "base_uri": "https://localhost:8080/"
        },
        "id": "aGdCTLJJ0_5s",
        "outputId": "636069fb-8f69-4304-d753-fab5471570f3"
      },
      "execution_count": 21,
      "outputs": [
        {
          "output_type": "execute_result",
          "data": {
            "text/plain": [
              "DatetimeIndex(['2022-12-05', '2022-12-12', '2022-12-19', '2022-12-26'], dtype='datetime64[ns]', freq='W-MON')"
            ]
          },
          "metadata": {},
          "execution_count": 21
        }
      ]
    },
    {
      "cell_type": "code",
      "source": [
        "pd.date_range(\"2022-12-1\",\"2022-12-31\",freq='M')"
      ],
      "metadata": {
        "colab": {
          "base_uri": "https://localhost:8080/"
        },
        "id": "URFK-V7e1Qr5",
        "outputId": "b28d492a-3b22-4263-d59d-1073d8ac1cf6"
      },
      "execution_count": 22,
      "outputs": [
        {
          "output_type": "stream",
          "name": "stderr",
          "text": [
            "<ipython-input-22-06e07785f73a>:1: FutureWarning: 'M' is deprecated and will be removed in a future version, please use 'ME' instead.\n",
            "  pd.date_range(\"2022-12-1\",\"2022-12-31\",freq='M')\n"
          ]
        },
        {
          "output_type": "execute_result",
          "data": {
            "text/plain": [
              "DatetimeIndex(['2022-12-31'], dtype='datetime64[ns]', freq='ME')"
            ]
          },
          "metadata": {},
          "execution_count": 22
        }
      ]
    },
    {
      "cell_type": "code",
      "source": [
        "pd.date_range(\"2022-12-01\",\"2022-12-31\",freq=\"MS\")"
      ],
      "metadata": {
        "colab": {
          "base_uri": "https://localhost:8080/"
        },
        "id": "KxSJQk5K3pKg",
        "outputId": "a7b95924-e330-4fb8-c01d-f4492e25cd5e"
      },
      "execution_count": 23,
      "outputs": [
        {
          "output_type": "execute_result",
          "data": {
            "text/plain": [
              "DatetimeIndex(['2022-12-01'], dtype='datetime64[ns]', freq='MS')"
            ]
          },
          "metadata": {},
          "execution_count": 23
        }
      ]
    },
    {
      "cell_type": "code",
      "source": [
        "pd.date_range(\"2022-12-1\",\"2022-12-31\",freq=\"BMS\")"
      ],
      "metadata": {
        "colab": {
          "base_uri": "https://localhost:8080/"
        },
        "id": "CzdvAyaT4BDu",
        "outputId": "f5d102cd-62fd-476f-8aa0-fdf7d27c86f5"
      },
      "execution_count": 24,
      "outputs": [
        {
          "output_type": "execute_result",
          "data": {
            "text/plain": [
              "DatetimeIndex(['2022-12-01'], dtype='datetime64[ns]', freq='BMS')"
            ]
          },
          "metadata": {},
          "execution_count": 24
        }
      ]
    }
  ]
}